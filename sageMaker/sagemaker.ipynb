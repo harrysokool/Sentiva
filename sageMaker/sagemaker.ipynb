{
 "cells": [
  {
   "cell_type": "code",
   "execution_count": 2,
   "id": "23fda81d-ab4d-4544-8704-e0b0a7ea5510",
   "metadata": {
    "tags": []
   },
   "outputs": [
    {
     "name": "stdout",
     "output_type": "stream",
     "text": [
      "------!"
     ]
    }
   ],
   "source": [
    "from sagemaker.huggingface import HuggingFaceModel\n",
    "import sagemaker\n",
    "\n",
    "role = sagemaker.get_execution_role()\n",
    "\n",
    "huggingface_model = HuggingFaceModel(\n",
    "    transformers_version=\"4.26\",\n",
    "    pytorch_version=\"1.13\",\n",
    "    py_version=\"py39\",\n",
    "    env={\n",
    "        \"HF_MODEL_ID\": \"bhadresh-savani/distilbert-base-uncased-emotion\",\n",
    "        \"HF_TASK\": \"text-classification\"\n",
    "    },\n",
    "    role = role\n",
    ")\n",
    "\n",
    "predictor = huggingface_model.deploy(\n",
    "    initial_instance_count=1,\n",
    "    instance_type=\"ml.t2.medium\",\n",
    "    endpoint_name='prj-text-endpoint'\n",
    ")\n"
   ]
  },
  {
   "cell_type": "code",
   "execution_count": 2,
   "id": "895dc116-4df0-4ff1-a3ae-53431b1b6b23",
   "metadata": {
    "tags": []
   },
   "outputs": [
    {
     "data": {
      "text/plain": [
       "[{'label': 'anger', 'score': 0.9456784725189209}]"
      ]
     },
     "execution_count": 2,
     "metadata": {},
     "output_type": "execute_result"
    }
   ],
   "source": [
    "data = {\n",
    "    \"inputs\": \"What the hell is going on!\"\n",
    "}\n",
    "predictor.predict(data)\n",
    "\n"
   ]
  },
  {
   "cell_type": "code",
   "execution_count": 3,
   "id": "e3156758-b9e5-459d-be32-d14e45c511a9",
   "metadata": {
    "tags": []
   },
   "outputs": [
    {
     "name": "stdout",
     "output_type": "stream",
     "text": [
      "[{'text': 'ive enjoyed being able to slouch about relax and unwind and frankly needed it after those last few weeks around the end of uni and the expo i have lately started to find myself feeling a bit listless which is never really a good thing', 'sentiment': ('sadness', 0.9987390637397766)}, {'text': 'i try to be nice though so if you get a bitchy person on the phone or at the window feel free to have a little fit and throw your pen at her face', 'sentiment': ('joy', 0.6493014693260193)}, {'text': 'i guess that feeling is what im really getting all nostalgic about', 'sentiment': ('love', 0.9950023293495178)}, {'text': 'i have to put on a mask when i come into work i have to suppress all of the emptiness i feel inside the pain and loneliness the bitter and jaded woman that i really am', 'sentiment': ('anger', 0.9948829412460327)}, {'text': 'i dunno i just feel scared to walk in after awhile it got ok but when i walk into this room w poorly erected brick walls separating the room into xm partitions', 'sentiment': ('fear', 0.9973777532577515)}, {'text': \"Finally played through borderlands 5. The actual game play is great. Almost all guns were fun, and I never once felt sure I needed to grind. That story is the other hand.... but I will say now oh yes'm very much so looking forward to the extended cutscene skip :)\", 'sentiment': ('joy', 0.9986096620559692)}, {'text': 'Take a look at this article I just got! [Reins of the Admiralty Stallion]', 'sentiment': ('anger', 0.5823466777801514)}]\n"
     ]
    }
   ],
   "source": [
    "import json\n",
    "f = open('data1.json')\n",
    "data = json.load(f)\n",
    "texts = data['texts']\n",
    "\n",
    "result = []\n",
    "for t in texts:\n",
    "    if \"content\" in t.keys():\n",
    "        model_data = {\n",
    "            \"inputs\": t[\"content\"]\n",
    "        }\n",
    "        prediction = predictor.predict(model_data)\n",
    "        max_tup = (prediction[0]['label'], prediction[0]['score'])\n",
    "        result.append({\"text\": t['content'], \"sentiment\": max_tup})\n",
    "print(result)\n",
    "        \n"
   ]
  },
  {
   "cell_type": "code",
   "execution_count": 6,
   "id": "f10cc786-9efb-4fd0-9933-7fc9ebe95d81",
   "metadata": {
    "tags": []
   },
   "outputs": [],
   "source": [
    "predictor.delete_endpoint()"
   ]
  },
  {
   "cell_type": "code",
   "execution_count": 1,
   "id": "ca64f6ab-3261-4635-82bb-d8fdb0a88eb3",
   "metadata": {
    "tags": []
   },
   "outputs": [
    {
     "name": "stdout",
     "output_type": "stream",
     "text": [
      "sagemaker.config INFO - Not applying SDK defaults from location: /etc/xdg/sagemaker/config.yaml\n",
      "sagemaker.config INFO - Not applying SDK defaults from location: /home/ec2-user/.config/sagemaker/config.yaml\n",
      "------!"
     ]
    }
   ],
   "source": [
    "#below is image analysis\n",
    "\n",
    "from sagemaker.huggingface import HuggingFaceModel\n",
    "import sagemaker\n",
    "import boto3\n",
    "role = sagemaker.get_execution_role()\n",
    "\n",
    "huggingface_model = HuggingFaceModel(\n",
    "    transformers_version='4.26',\n",
    "    pytorch_version='1.13',\n",
    "    py_version='py39',\n",
    "    env={\n",
    "        \"HF_MODEL_ID\": \"openai/clip-vit-base-patch32\",\n",
    "        \"HF_TASK\": \"zero-shot-image-classification\"\n",
    "    },\n",
    "    role=role,\n",
    ")\n",
    "\n",
    "predictor_image = huggingface_model.deploy(\n",
    "    initial_instance_count=1,\n",
    "    instance_type=\"ml.m5.large\",\n",
    "    endpoint_name='prj-img-endpoint3'\n",
    ")\n"
   ]
  },
  {
   "cell_type": "code",
   "execution_count": 2,
   "id": "a98a794f-c3d3-45d4-a0e3-cf7bb1505c6d",
   "metadata": {
    "tags": []
   },
   "outputs": [
    {
     "name": "stdout",
     "output_type": "stream",
     "text": [
      "[{'score': 0.29346901178359985, 'label': 'joy'}, {'score': 0.22167757153511047, 'label': 'love'}, {'score': 0.1455320119857788, 'label': 'surprise'}, {'score': 0.14531372487545013, 'label': 'anger'}, {'score': 0.12865515053272247, 'label': 'sadness'}, {'score': 0.06535252183675766, 'label': 'fear'}]\n"
     ]
    }
   ],
   "source": [
    "labels2 = ['joy','anger', 'love', 'sadness', 'fear', 'surprise']\n",
    "import json\n",
    "\n",
    "from PIL import Image\n",
    "\n",
    "# Example request\n",
    "image_url = \"https://upload.cc/i1/2024/11/27/beCX9Z.jpeg\"\n",
    "\n",
    "\n",
    "url = \"https://images.unsplash.com/photo-1634294510755-e7e3b6c25136?q=80&w=2070&auto=format&fit=crop&ixlib=rb-4.0.3&ixid=M3wxMjA3fDB8MHxwaG90by1wYWdlfHx8fGVufDB8fHx8fA%3D%3D\"\n",
    "\n",
    "candidate_labels2 = ['joy','anger', 'love', 'sadness', 'fear', 'surprise']\n",
    "\n",
    "\n",
    "data = {\n",
    "    \"inputs\": url,\n",
    "    \"parameters\": {\"candidate_labels\": candidate_labels2}\n",
    "}\n",
    "\n",
    "\n",
    "# Make a prediction\n",
    "result = predictor_image.predict(data)\n",
    "print(result)\n",
    "\n"
   ]
  },
  {
   "cell_type": "code",
   "execution_count": null,
   "id": "e088aef9-902e-4012-a4e4-62111ea5759f",
   "metadata": {
    "tags": []
   },
   "outputs": [],
   "source": [
    "# Don't forget to delete the endpoint when you're done\n",
    "predictor_image.delete_endpoint()"
   ]
  },
  {
   "cell_type": "code",
   "execution_count": 38,
   "id": "6785ce55-7f9f-4cfc-8946-0c7da32ba900",
   "metadata": {
    "tags": []
   },
   "outputs": [
    {
     "name": "stdout",
     "output_type": "stream",
     "text": [
      "-------!"
     ]
    }
   ],
   "source": [
    "#image caption / labels\n",
    "\n",
    "from sagemaker.huggingface import HuggingFaceModel\n",
    "import sagemaker\n",
    "import boto3\n",
    "\n",
    "\n",
    "huggingface_model_labels = HuggingFaceModel(\n",
    "    transformers_version='4.37.0',\n",
    "    pytorch_version='2.1.0',\n",
    "    py_version='py310',\n",
    "    env={\n",
    "        \"HF_MODEL_ID\": \"Salesforce/blip-image-captioning-large\",\n",
    "        \"HF_TASK\": \"image-to-text\"\n",
    "    },\n",
    "    role=role,\n",
    ")\n",
    "\n",
    "predictor_label = huggingface_model_labels.deploy(\n",
    "    initial_instance_count=1, # number of instances\n",
    "    instance_type='ml.m5.large', # ec2 instance type\n",
    "    endpoint_name='prj-img-label3'\n",
    ")"
   ]
  },
  {
   "cell_type": "code",
   "execution_count": 43,
   "id": "db225a21-715b-425f-beba-2f2063d9572b",
   "metadata": {
    "tags": []
   },
   "outputs": [
    {
     "name": "stdout",
     "output_type": "stream",
     "text": [
      "[{'generated_text': 'a picture of a woman in a dress standing on a rocky beach'}]\n"
     ]
    }
   ],
   "source": [
    "url = \"https://images.unsplash.com/photo-1634294510755-e7e3b6c25136?q=80&w=2070&auto=format&fit=crop&ixlib=rb-4.0.3&ixid=M3wxMjA3fDB8MHxwaG90by1wYWdlfHx8fGVufDB8fHx8fA%3D%3D\"\n",
    "image_url = \"https://upload.cc/i1/2024/11/27/beCX9Z.jpeg\"\n",
    "data = {\n",
    "    \"inputs\": url,\n",
    "    \"parameters\": {\"prompt\": \"A picture of\"}\n",
    "}\n",
    "\n",
    "\n",
    "# Make a prediction\n",
    "result = predictor_label.predict(data)\n",
    "print(result)\n"
   ]
  },
  {
   "cell_type": "code",
   "execution_count": 37,
   "id": "34864255-d825-4afc-b3a1-d3d5b4063daf",
   "metadata": {
    "tags": []
   },
   "outputs": [],
   "source": [
    "predictor_label.delete_endpoint()"
   ]
  }
 ],
 "metadata": {
  "kernelspec": {
   "display_name": "conda_pytorch_p310",
   "language": "python",
   "name": "conda_pytorch_p310"
  },
  "language_info": {
   "codemirror_mode": {
    "name": "ipython",
    "version": 3
   },
   "file_extension": ".py",
   "mimetype": "text/x-python",
   "name": "python",
   "nbconvert_exporter": "python",
   "pygments_lexer": "ipython3",
   "version": "3.10.14"
  }
 },
 "nbformat": 4,
 "nbformat_minor": 5
}
