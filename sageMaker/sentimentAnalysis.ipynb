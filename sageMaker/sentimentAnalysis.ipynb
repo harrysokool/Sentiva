{
 "cells": [
  {
   "cell_type": "code",
   "execution_count": null,
   "metadata": {
    "vscode": {
     "languageId": "plaintext"
    }
   },
   "outputs": [],
   "source": [
    "from sagemaker.huggingface import HuggingFaceModel\n",
    "import sagemaker\n",
    "\n",
    "role = sagemaker.get_execution_role()\n",
    "\n",
    "huggingface_model = HuggingFaceModel(\n",
    "    transformers_version=\"4.26\",\n",
    "    pytorch_version=\"1.13\",\n",
    "    py_version=\"py39\",\n",
    "    env={\n",
    "        \"HF_MODEL_ID\": \"bhadresh-savani/distilbert-base-uncased-emotion\",\n",
    "        \"HF_TASK\": \"text-classification\"\n",
    "    },\n",
    "    role = role\n",
    ")\n",
    "\n",
    "predictor = huggingface_model.deploy(\n",
    "    initial_instance_count=1,\n",
    "    instance_type=\"ml.t2.medium\",\n",
    "    endpoint_name='prj-text-endpoint'\n",
    ")\n"
   ]
  },
  {
   "cell_type": "code",
   "execution_count": null,
   "metadata": {
    "vscode": {
     "languageId": "plaintext"
    }
   },
   "outputs": [],
   "source": [
    "data = {\n",
    "    \"inputs\": \"What the hell is going on!\"\n",
    "}\n",
    "predictor.predict(data)\n"
   ]
  },
  {
   "cell_type": "code",
   "execution_count": null,
   "metadata": {
    "vscode": {
     "languageId": "plaintext"
    }
   },
   "outputs": [],
   "source": [
    "import json\n",
    "f = open('data1.json')\n",
    "data = json.load(f)\n",
    "texts = data['texts']\n",
    "\n",
    "result = []\n",
    "for t in texts:\n",
    "    if \"content\" in t.keys():\n",
    "        model_data = {\n",
    "            \"inputs\": t[\"content\"]\n",
    "        }\n",
    "        prediction = predictor.predict(model_data)\n",
    "        max_tup = (prediction[0]['label'], prediction[0]['score'])\n",
    "        result.append({\"text\": t['content'], \"sentiment\": max_tup})\n",
    "print(result)\n",
    "        "
   ]
  },
  {
   "cell_type": "code",
   "execution_count": null,
   "metadata": {
    "vscode": {
     "languageId": "plaintext"
    }
   },
   "outputs": [],
   "source": [
    "predictor.delete_endpoint()"
   ]
  },
  {
   "cell_type": "code",
   "execution_count": null,
   "metadata": {
    "vscode": {
     "languageId": "plaintext"
    }
   },
   "outputs": [],
   "source": [
    "#below is image analysis\n",
    "\n",
    "from sagemaker.huggingface import HuggingFaceModel\n",
    "import sagemaker\n",
    "import boto3\n",
    "role = sagemaker.get_execution_role()\n",
    "\n",
    "huggingface_model = HuggingFaceModel(\n",
    "    transformers_version='4.26',\n",
    "    pytorch_version='1.13',\n",
    "    py_version='py39',\n",
    "    env={\n",
    "        \"HF_MODEL_ID\": \"openai/clip-vit-base-patch32\",\n",
    "        \"HF_TASK\": \"zero-shot-image-classification\"\n",
    "    },\n",
    "    role=role,\n",
    ")\n",
    "\n",
    "predictor_image = huggingface_model.deploy(\n",
    "    initial_instance_count=1,\n",
    "    instance_type=\"ml.m5.large\",\n",
    "    endpoint_name='prj-img-endpoint3'\n",
    ")"
   ]
  },
  {
   "cell_type": "code",
   "execution_count": null,
   "metadata": {
    "vscode": {
     "languageId": "plaintext"
    }
   },
   "outputs": [],
   "source": [
    "labels2 = ['joy','anger', 'love', 'sadness', 'fear', 'surprise']\n",
    "import json\n",
    "\n",
    "from PIL import Image\n",
    "\n",
    "# Example request\n",
    "image_url = \"https://upload.cc/i1/2024/11/27/beCX9Z.jpeg\"\n",
    "\n",
    "\n",
    "url = \"https://images.unsplash.com/photo-1634294510755-e7e3b6c25136?q=80&w=2070&auto=format&fit=crop&ixlib=rb-4.0.3&ixid=M3wxMjA3fDB8MHxwaG90by1wYWdlfHx8fGVufDB8fHx8fA%3D%3D\"\n",
    "\n",
    "\n",
    "candidate_labels = [\"a happy painting\", \"a sad painting\", \"a calm artwork\", \"an angry artwork\", \"a joyful painting\", \"a peaceful painting\", \"a depressing artwork\", \"a vibrant painting\", \"a dark artwork\", \"a bright painting\", \"an neutral artwork\"]\n",
    "candidate_labels2 = ['joy','anger', 'love', 'sadness', 'fear', 'surprise']\n",
    "\n",
    "\n",
    "data = {\n",
    "    \"inputs\": url,\n",
    "    \"parameters\": {\"candidate_labels\": candidate_labels2}\n",
    "}\n",
    "\n",
    "\n",
    "# Make a prediction\n",
    "result = predictor_image.predict(data)\n",
    "print(result)"
   ]
  },
  {
   "cell_type": "code",
   "execution_count": null,
   "metadata": {
    "vscode": {
     "languageId": "plaintext"
    }
   },
   "outputs": [],
   "source": [
    "# Don't forget to delete the endpoint when you're done\n",
    "predictor_image.delete_endpoint()"
   ]
  }
 ],
 "metadata": {
  "language_info": {
   "name": "python"
  }
 },
 "nbformat": 4,
 "nbformat_minor": 2
}
