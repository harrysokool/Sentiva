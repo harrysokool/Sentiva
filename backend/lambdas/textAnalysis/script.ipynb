{
 "cells": [
  {
   "cell_type": "code",
   "execution_count": 4,
   "metadata": {},
   "outputs": [
    {
     "name": "stdout",
     "output_type": "stream",
     "text": [
      "huggingface/tokenizers: The current process just got forked, after parallelism has already been used. Disabling parallelism to avoid deadlocks...\n",
      "To disable this warning, you can either:\n",
      "\t- Avoid using `tokenizers` before the fork if possible\n",
      "\t- Explicitly set the environment variable TOKENIZERS_PARALLELISM=(true | false)\n",
      "Requirement already satisfied: transformers in /Users/harrysocool/miniconda3/envs/cpsc330/lib/python3.10/site-packages (4.30.2)\n",
      "Requirement already satisfied: torch in /Users/harrysocool/miniconda3/envs/cpsc330/lib/python3.10/site-packages (2.3.1)\n",
      "Requirement already satisfied: filelock in /Users/harrysocool/miniconda3/envs/cpsc330/lib/python3.10/site-packages (from transformers) (3.13.1)\n",
      "Requirement already satisfied: huggingface-hub<1.0,>=0.14.1 in /Users/harrysocool/miniconda3/envs/cpsc330/lib/python3.10/site-packages (from transformers) (0.21.4)\n",
      "Requirement already satisfied: numpy>=1.17 in /Users/harrysocool/miniconda3/envs/cpsc330/lib/python3.10/site-packages (from transformers) (1.21.6)\n",
      "Requirement already satisfied: packaging>=20.0 in /Users/harrysocool/miniconda3/envs/cpsc330/lib/python3.10/site-packages (from transformers) (23.2)\n",
      "Requirement already satisfied: pyyaml>=5.1 in /Users/harrysocool/miniconda3/envs/cpsc330/lib/python3.10/site-packages (from transformers) (6.0.1)\n",
      "Requirement already satisfied: regex!=2019.12.17 in /Users/harrysocool/miniconda3/envs/cpsc330/lib/python3.10/site-packages (from transformers) (2023.12.25)\n",
      "Requirement already satisfied: requests in /Users/harrysocool/miniconda3/envs/cpsc330/lib/python3.10/site-packages (from transformers) (2.28.2)\n",
      "Requirement already satisfied: tokenizers!=0.11.3,<0.14,>=0.11.1 in /Users/harrysocool/miniconda3/envs/cpsc330/lib/python3.10/site-packages (from transformers) (0.13.3)\n",
      "Requirement already satisfied: safetensors>=0.3.1 in /Users/harrysocool/miniconda3/envs/cpsc330/lib/python3.10/site-packages (from transformers) (0.4.2)\n",
      "Requirement already satisfied: tqdm>=4.27 in /Users/harrysocool/miniconda3/envs/cpsc330/lib/python3.10/site-packages (from transformers) (4.64.1)\n",
      "Requirement already satisfied: typing-extensions>=4.8.0 in /Users/harrysocool/miniconda3/envs/cpsc330/lib/python3.10/site-packages (from torch) (4.9.0)\n",
      "Requirement already satisfied: sympy in /Users/harrysocool/miniconda3/envs/cpsc330/lib/python3.10/site-packages (from torch) (1.12)\n",
      "Requirement already satisfied: networkx in /Users/harrysocool/miniconda3/envs/cpsc330/lib/python3.10/site-packages (from torch) (3.2)\n",
      "Requirement already satisfied: jinja2 in /Users/harrysocool/miniconda3/envs/cpsc330/lib/python3.10/site-packages (from torch) (3.1.2)\n",
      "Requirement already satisfied: fsspec in /Users/harrysocool/miniconda3/envs/cpsc330/lib/python3.10/site-packages (from torch) (2023.12.2)\n",
      "Requirement already satisfied: MarkupSafe>=2.0 in /Users/harrysocool/miniconda3/envs/cpsc330/lib/python3.10/site-packages (from jinja2->torch) (2.1.3)\n",
      "Requirement already satisfied: charset-normalizer<4,>=2 in /Users/harrysocool/miniconda3/envs/cpsc330/lib/python3.10/site-packages (from requests->transformers) (3.3.2)\n",
      "Requirement already satisfied: idna<4,>=2.5 in /Users/harrysocool/miniconda3/envs/cpsc330/lib/python3.10/site-packages (from requests->transformers) (3.6)\n",
      "Requirement already satisfied: urllib3<1.27,>=1.21.1 in /Users/harrysocool/miniconda3/envs/cpsc330/lib/python3.10/site-packages (from requests->transformers) (1.26.18)\n",
      "Requirement already satisfied: certifi>=2017.4.17 in /Users/harrysocool/miniconda3/envs/cpsc330/lib/python3.10/site-packages (from requests->transformers) (2024.8.30)\n",
      "Requirement already satisfied: mpmath>=0.19 in /Users/harrysocool/miniconda3/envs/cpsc330/lib/python3.10/site-packages (from sympy->torch) (1.3.0)\n",
      "Note: you may need to restart the kernel to use updated packages.\n",
      "Emotion Analysis Results:\n",
      "anger: 0.0039\n",
      "joy: 0.0036\n",
      "sadness: 0.0005\n",
      "fear: 0.9457\n",
      "surprise: 0.0451\n",
      "love: 0.0012\n"
     ]
    }
   ],
   "source": [
    "%pip install transformers torch\n",
    "from transformers import AutoTokenizer, AutoModelForSequenceClassification\n",
    "import torch\n",
    "\n",
    "# Load pre-trained model and tokenizer\n",
    "model_name = \"bhadresh-savani/distilbert-base-uncased-emotion\"\n",
    "tokenizer = AutoTokenizer.from_pretrained(model_name)\n",
    "model = AutoModelForSequenceClassification.from_pretrained(model_name)\n",
    "\n",
    "# Function for emotion analysis\n",
    "def analyze_emotions(text):\n",
    "    inputs = tokenizer(text, return_tensors=\"pt\", truncation=True, padding=True)\n",
    "    outputs = model(**inputs)\n",
    "    probs = torch.nn.functional.softmax(outputs.logits, dim=-1)\n",
    "    labels = [\"anger\", \"joy\", \"sadness\", \"fear\", \"surprise\", \"love\"]\n",
    "    results = {label: prob.item() for label, prob in zip(labels, probs[0])}\n",
    "    return results\n",
    "\n",
    "# Example usage\n",
    "text = \"What the hell is going on!\"\n",
    "emotion_scores = analyze_emotions(text)\n",
    "print(\"Emotion Analysis Results:\")\n",
    "for emotion, score in emotion_scores.items():\n",
    "    print(f\"{emotion}: {score:.4f}\")\n"
   ]
  }
 ],
 "metadata": {
  "kernelspec": {
   "display_name": "cpsc330",
   "language": "python",
   "name": "python3"
  },
  "language_info": {
   "codemirror_mode": {
    "name": "ipython",
    "version": 3
   },
   "file_extension": ".py",
   "mimetype": "text/x-python",
   "name": "python",
   "nbconvert_exporter": "python",
   "pygments_lexer": "ipython3",
   "version": "3.10.13"
  }
 },
 "nbformat": 4,
 "nbformat_minor": 2
}
